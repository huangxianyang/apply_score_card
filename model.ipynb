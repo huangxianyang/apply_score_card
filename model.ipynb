{
 "cells": [
  {
   "cell_type": "markdown",
   "metadata": {},
   "source": [
    "## 申请评分卡"
   ]
  },
  {
   "cell_type": "code",
   "execution_count": 325,
   "metadata": {
    "collapsed": true
   },
   "outputs": [],
   "source": [
    "#导入相关模块\n",
    "import pandas as pd\n",
    "import numpy as np\n",
    "import scipy as sc\n",
    "import matplotlib.pyplot as plt\n",
    "import seaborn as sns\n",
    "import mglearn\n",
    "import pandasql\n",
    "import missingno as msno\n",
    "import scipy.stats.stats as stats\n",
    "import statsmodels.api as sm\n",
    "import statsmodels.formula.api as smf\n",
    "%matplotlib inline\n",
    "#忽略弹出的warnings\n",
    "import warnings\n",
    "warnings.filterwarnings('ignore')  \n",
    "pd.set_option('display.float_format', lambda x: '%.5f' % x)"
   ]
  },
  {
   "cell_type": "code",
   "execution_count": 330,
   "metadata": {
    "collapsed": false
   },
   "outputs": [
    {
     "data": {
      "text/html": [
       "<div>\n",
       "<table border=\"1\" class=\"dataframe\">\n",
       "  <thead>\n",
       "    <tr style=\"text-align: right;\">\n",
       "      <th></th>\n",
       "      <th>age</th>\n",
       "      <th>education</th>\n",
       "      <th>shebao</th>\n",
       "      <th>vehicle_num</th>\n",
       "      <th>income_range</th>\n",
       "      <th>loan_rate</th>\n",
       "      <th>seniority</th>\n",
       "      <th>client_type</th>\n",
       "      <th>label</th>\n",
       "      <th>zhima_score</th>\n",
       "      <th>gender_Female</th>\n",
       "      <th>gender_Male</th>\n",
       "      <th>marriage_marriage</th>\n",
       "      <th>marriage_unmarriage</th>\n",
       "      <th>house_nature_owned</th>\n",
       "      <th>house_nature_rent</th>\n",
       "      <th>house_nature_unknown</th>\n",
       "      <th>house_nature_with_parents</th>\n",
       "      <th>cv_ios</th>\n",
       "      <th>cv_other</th>\n",
       "    </tr>\n",
       "  </thead>\n",
       "  <tbody>\n",
       "    <tr>\n",
       "      <th>0</th>\n",
       "      <td>33</td>\n",
       "      <td>2</td>\n",
       "      <td>1</td>\n",
       "      <td>0</td>\n",
       "      <td>4</td>\n",
       "      <td>0</td>\n",
       "      <td>4</td>\n",
       "      <td>1</td>\n",
       "      <td>0</td>\n",
       "      <td>781</td>\n",
       "      <td>0</td>\n",
       "      <td>1</td>\n",
       "      <td>0</td>\n",
       "      <td>1</td>\n",
       "      <td>1</td>\n",
       "      <td>0</td>\n",
       "      <td>0</td>\n",
       "      <td>0</td>\n",
       "      <td>0</td>\n",
       "      <td>1</td>\n",
       "    </tr>\n",
       "    <tr>\n",
       "      <th>1</th>\n",
       "      <td>24</td>\n",
       "      <td>3</td>\n",
       "      <td>0</td>\n",
       "      <td>0</td>\n",
       "      <td>1</td>\n",
       "      <td>1</td>\n",
       "      <td>1</td>\n",
       "      <td>2</td>\n",
       "      <td>0</td>\n",
       "      <td>705</td>\n",
       "      <td>1</td>\n",
       "      <td>0</td>\n",
       "      <td>0</td>\n",
       "      <td>1</td>\n",
       "      <td>0</td>\n",
       "      <td>1</td>\n",
       "      <td>0</td>\n",
       "      <td>0</td>\n",
       "      <td>0</td>\n",
       "      <td>1</td>\n",
       "    </tr>\n",
       "    <tr>\n",
       "      <th>2</th>\n",
       "      <td>40</td>\n",
       "      <td>2</td>\n",
       "      <td>1</td>\n",
       "      <td>0</td>\n",
       "      <td>4</td>\n",
       "      <td>1</td>\n",
       "      <td>2</td>\n",
       "      <td>2</td>\n",
       "      <td>0</td>\n",
       "      <td>798</td>\n",
       "      <td>0</td>\n",
       "      <td>1</td>\n",
       "      <td>1</td>\n",
       "      <td>0</td>\n",
       "      <td>1</td>\n",
       "      <td>0</td>\n",
       "      <td>0</td>\n",
       "      <td>0</td>\n",
       "      <td>0</td>\n",
       "      <td>1</td>\n",
       "    </tr>\n",
       "    <tr>\n",
       "      <th>3</th>\n",
       "      <td>35</td>\n",
       "      <td>1</td>\n",
       "      <td>1</td>\n",
       "      <td>0</td>\n",
       "      <td>4</td>\n",
       "      <td>1</td>\n",
       "      <td>4</td>\n",
       "      <td>2</td>\n",
       "      <td>0</td>\n",
       "      <td>676</td>\n",
       "      <td>0</td>\n",
       "      <td>1</td>\n",
       "      <td>1</td>\n",
       "      <td>0</td>\n",
       "      <td>1</td>\n",
       "      <td>0</td>\n",
       "      <td>0</td>\n",
       "      <td>0</td>\n",
       "      <td>0</td>\n",
       "      <td>1</td>\n",
       "    </tr>\n",
       "    <tr>\n",
       "      <th>4</th>\n",
       "      <td>24</td>\n",
       "      <td>2</td>\n",
       "      <td>0</td>\n",
       "      <td>0</td>\n",
       "      <td>2</td>\n",
       "      <td>1</td>\n",
       "      <td>1</td>\n",
       "      <td>2</td>\n",
       "      <td>0</td>\n",
       "      <td>753</td>\n",
       "      <td>1</td>\n",
       "      <td>0</td>\n",
       "      <td>0</td>\n",
       "      <td>1</td>\n",
       "      <td>0</td>\n",
       "      <td>1</td>\n",
       "      <td>0</td>\n",
       "      <td>0</td>\n",
       "      <td>0</td>\n",
       "      <td>1</td>\n",
       "    </tr>\n",
       "  </tbody>\n",
       "</table>\n",
       "</div>"
      ],
      "text/plain": [
       "   age  education  shebao  vehicle_num  income_range  loan_rate  seniority  \\\n",
       "0   33          2       1            0             4          0          4   \n",
       "1   24          3       0            0             1          1          1   \n",
       "2   40          2       1            0             4          1          2   \n",
       "3   35          1       1            0             4          1          4   \n",
       "4   24          2       0            0             2          1          1   \n",
       "\n",
       "   client_type  label  zhima_score  gender_Female  gender_Male  \\\n",
       "0            1      0          781              0            1   \n",
       "1            2      0          705              1            0   \n",
       "2            2      0          798              0            1   \n",
       "3            2      0          676              0            1   \n",
       "4            2      0          753              1            0   \n",
       "\n",
       "   marriage_marriage  marriage_unmarriage  house_nature_owned  \\\n",
       "0                  0                    1                   1   \n",
       "1                  0                    1                   0   \n",
       "2                  1                    0                   1   \n",
       "3                  1                    0                   1   \n",
       "4                  0                    1                   0   \n",
       "\n",
       "   house_nature_rent  house_nature_unknown  house_nature_with_parents  cv_ios  \\\n",
       "0                  0                     0                          0       0   \n",
       "1                  1                     0                          0       0   \n",
       "2                  0                     0                          0       0   \n",
       "3                  0                     0                          0       0   \n",
       "4                  1                     0                          0       0   \n",
       "\n",
       "   cv_other  \n",
       "0         1  \n",
       "1         1  \n",
       "2         1  \n",
       "3         1  \n",
       "4         1  "
      ]
     },
     "execution_count": 330,
     "metadata": {},
     "output_type": "execute_result"
    }
   ],
   "source": [
    "#读取数据\n",
    "data = pd.read_csv('data_new.csv')\n",
    "data.head()"
   ]
  },
  {
   "cell_type": "code",
   "execution_count": 331,
   "metadata": {
    "collapsed": false
   },
   "outputs": [
    {
     "data": {
      "text/plain": [
       "(728603, 20)"
      ]
     },
     "execution_count": 331,
     "metadata": {},
     "output_type": "execute_result"
    }
   ],
   "source": [
    "data.shape"
   ]
  },
  {
   "cell_type": "code",
   "execution_count": 332,
   "metadata": {
    "collapsed": false
   },
   "outputs": [
    {
     "data": {
      "text/plain": [
       "age                         0.00000\n",
       "education                   0.00000\n",
       "shebao                      0.00000\n",
       "vehicle_num                 0.00000\n",
       "income_range                0.00000\n",
       "loan_rate                   0.00000\n",
       "seniority                   0.00000\n",
       "client_type                 0.00000\n",
       "label                       0.00000\n",
       "zhima_score                 0.00000\n",
       "gender_Female               0.00000\n",
       "gender_Male                 0.00000\n",
       "marriage_marriage           0.00000\n",
       "marriage_unmarriage         0.00000\n",
       "house_nature_owned          0.00000\n",
       "house_nature_rent           0.00000\n",
       "house_nature_unknown        0.00000\n",
       "house_nature_with_parents   0.00000\n",
       "cv_ios                      0.00000\n",
       "cv_other                    0.00000\n",
       "dtype: float64"
      ]
     },
     "execution_count": 332,
     "metadata": {},
     "output_type": "execute_result"
    }
   ],
   "source": [
    "data.isnull().sum(axis=0)/len(data)"
   ]
  },
  {
   "cell_type": "code",
   "execution_count": 333,
   "metadata": {
    "collapsed": false
   },
   "outputs": [],
   "source": [
    "data.describe().to_excel(\"数据概述.xlsx\")"
   ]
  },
  {
   "cell_type": "code",
   "execution_count": 338,
   "metadata": {
    "collapsed": false
   },
   "outputs": [
    {
     "data": {
      "text/plain": [
       "<matplotlib.axes._subplots.AxesSubplot at 0x26315898>"
      ]
     },
     "execution_count": 338,
     "metadata": {},
     "output_type": "execute_result"
    },
    {
     "data": {
      "image/png": "[encoded data removed]",
      "text/plain": [
       "<matplotlib.figure.Figure at 0x40c3d518>"
      ]
     },
     "metadata": {},
     "output_type": "display_data"
    }
   ],
   "source": [
    "plt.figure(figsize=(14,7))\n",
    "sns.countplot(x=\"zhima_score\",data=data[data.zhima_score<400])"
   ]
  },
  {
   "cell_type": "code",
   "execution_count": 340,
   "metadata": {
    "collapsed": false
   },
   "outputs": [
    {
     "data": {
      "text/plain": [
       "<matplotlib.axes._subplots.AxesSubplot at 0x1638e518>"
      ]
     },
     "execution_count": 340,
     "metadata": {},
     "output_type": "execute_result"
    },
    {
     "data": {
      "image/png": "[encoded data removed]",
      "text/plain": [
       "<matplotlib.figure.Figure at 0x1638e5f8>"
      ]
     },
     "metadata": {},
     "output_type": "display_data"
    }
   ],
   "source": [
    "#皮尔森相关系数\n",
    "colormap = plt.cm.viridis\n",
    "plt.figure(figsize=(10,10))\n",
    "sns.set_style(\"dark\",{\"font.sans-serif\":[\"simhei\",\"Arial\"]})\n",
    "plt.title('皮尔森相关性系数', y=1.05, size=8)\n",
    "mask = np.zeros_like(data.corr(),dtype=np.bool)\n",
    "mask[np.triu_indices_from(mask)] = True\n",
    "sns.heatmap(data.corr(),linewidths=0.1,vmax=1.0, square=True, cmap=colormap, linecolor='white', annot=True,mask=mask)"
   ]
  },
  {
   "cell_type": "code",
   "execution_count": 345,
   "metadata": {
    "collapsed": false
   },
   "outputs": [],
   "source": [
    "drop_col = ['seniority','gender_Male',  'marriage_unmarriage','loan_rate',\"cv_other\"]\n",
    "data = data.drop(drop_col,axis=1)"
   ]
  },
  {
   "cell_type": "code",
   "execution_count": 346,
   "metadata": {
    "collapsed": false
   },
   "outputs": [
    {
     "data": {
      "text/plain": [
       "['age',\n",
       " 'education',\n",
       " 'shebao',\n",
       " 'vehicle_num',\n",
       " 'income_range',\n",
       " 'client_type',\n",
       " 'label',\n",
       " 'zhima_score',\n",
       " 'gender_Female',\n",
       " 'marriage_marriage',\n",
       " 'house_nature_owned',\n",
       " 'house_nature_rent',\n",
       " 'house_nature_unknown',\n",
       " 'house_nature_with_parents',\n",
       " 'cv_ios']"
      ]
     },
     "execution_count": 346,
     "metadata": {},
     "output_type": "execute_result"
    }
   ],
   "source": [
    "col_feature = list(data.columns)\n",
    "col_feature"
   ]
  },
  {
   "cell_type": "code",
   "execution_count": 353,
   "metadata": {
    "collapsed": false
   },
   "outputs": [],
   "source": [
    "data.columns = [\"X1\",\"X2\",\"X3\",\"X4\",\"X5\",\"X8\",\"label\",\"X9\",\"X10\", \"X12\", \"X14\",\"X15\",\"X16\",\"X17\",\"X18\"]"
   ]
  },
  {
   "cell_type": "markdown",
   "metadata": {},
   "source": [
    "### 特征信息价值 IV=sum((goodattribute-badattribute)*ln(goodattribute/badattribute))\n",
    "### 通过IV值判断变量预测能力的标准是：\n",
    "###  <0.02: unpredictive\n",
    "###  0.02 to 0.1: weak\n",
    "####  0.1 to 0.3 : median\n",
    "### 0.3 to 0.5: strong\n",
    "#### > 0.5: suspicious"
   ]
  },
  {
   "cell_type": "code",
   "execution_count": 109,
   "metadata": {
    "collapsed": true
   },
   "outputs": [],
   "source": [
    "#连续特征分箱函数\n",
    "def mono_bin(Y, X, n):\n",
    "    r = 0\n",
    "    good=Y.sum()\n",
    "    bad=Y.count()-good\n",
    "    while np.abs(r) < 1:\n",
    "        d1 = pd.DataFrame({\"X\": X, \"Y\": Y, \"Bucket\": pd.qcut(X, n)})\n",
    "        d2 = d1.groupby('Bucket', as_index = True)\n",
    "        r, p = stats.spearmanr(d2.mean().X, d2.mean().Y)\n",
    "        n = n - 1\n",
    "    d3 = pd.DataFrame(d2.X.min(), columns = ['min'])\n",
    "    d3['min']=d2.min().X\n",
    "    d3['max'] = d2.max().X\n",
    "    d3['sum'] = d2.sum().Y\n",
    "    d3['total'] = d2.count().Y\n",
    "    d3['rate'] = d2.mean().Y\n",
    "    d3['woe']=np.log((d3['rate']/(1-d3['rate']))/(good/bad))\n",
    "    d3['goodattribute']=d3['sum']/good\n",
    "    d3['badattribute']=(d3['total']-d3['sum'])/bad\n",
    "    #特征信息价值\n",
    "    iv=((d3['goodattribute']-d3['badattribute'])*d3['woe']).sum()\n",
    "    \n",
    "    d4 = (d3.sort_index(by = 'min')).reset_index(drop=True)\n",
    "\n",
    "    cut=[]\n",
    "    cut.append(float('-inf'))\n",
    "    \n",
    "    for i in range(1,n+1):\n",
    "        qua=X.quantile(i/(n+1))\n",
    "        cut.append(round(qua,4))\n",
    "        \n",
    "    cut.append(float('inf'))\n",
    "    \n",
    "    woe=list(d4['woe'].round(3))\n",
    "    \n",
    "    #return d4,iv\n",
    "    return cut,woe"
   ]
  },
  {
   "cell_type": "code",
   "execution_count": 124,
   "metadata": {
    "collapsed": true
   },
   "outputs": [],
   "source": [
    "#分类特征分箱函数\n",
    "def self_bin(Y,X,cat):\n",
    "    good=Y.sum()\n",
    "    bad=Y.count()-good\n",
    "    d1=pd.DataFrame({'X':X,'Y':Y,'Bucket':pd.cut(X,cat)})\n",
    "    d2=d1.groupby('Bucket', as_index = True)\n",
    "    d3 = pd.DataFrame(d2.X.min(), columns=['min'])\n",
    "    d3['min'] = d2.min().X\n",
    "    d3['max'] = d2.max().X\n",
    "    d3['sum'] = d2.sum().Y\n",
    "    d3['total'] = d2.count().Y\n",
    "    d3['rate'] = d2.mean().Y\n",
    "    d3['woe'] = np.log((d3['rate'] / (1 - d3['rate'])) / (good / bad))\n",
    "    d3['goodattribute'] = d3['sum'] / good\n",
    "    d3['badattribute'] = (d3['total'] - d3['sum']) / bad\n",
    "    iv = ((d3['goodattribute'] - d3['badattribute']) * d3['woe']).sum()\n",
    "    d4 = (d3.sort_index(by='min'))\n",
    "    woe = list(d4['woe'].round(3))\n",
    "    return iv,woe"
   ]
  },
  {
   "cell_type": "code",
   "execution_count": 349,
   "metadata": {
    "collapsed": true
   },
   "outputs": [],
   "source": [
    "pinf = float('inf')#正无穷大\n",
    "ninf = float('-inf')#负无穷大"
   ]
  },
  {
   "cell_type": "code",
   "execution_count": 351,
   "metadata": {
    "collapsed": true
   },
   "outputs": [],
   "source": [
    "cutx1 = [ninf,20,30,40,pinf]\n",
    "cutx2 = [0,1,2,3]\n",
    "cutx3 = [0,1]\n",
    "cutx4 = [0,1]\n",
    "cutx5 = [0,1,2,3,4]\n",
    "\n",
    "cutx8 = [1,2]\n",
    "cutx9 = [ninf,550,650,750,pinf]\n",
    "cutx10 = [0,1]\n",
    "\n",
    "cutx12 = [0,1]\n",
    "\n",
    "cutx14 = [0,1]\n",
    "cutx15 = [0,1]\n",
    "cutx16 = [0,1]\n",
    "cutx17 = [0,1]\n",
    "cutx18 = [0,1]\n"
   ]
  },
  {
   "cell_type": "code",
   "execution_count": 355,
   "metadata": {
    "collapsed": false
   },
   "outputs": [],
   "source": [
    "iv1,woe1 = self_bin(data.label,data.X1,cutx1)\n",
    "iv2,woe2 = self_bin(data.label,data.X2,cutx2)\n",
    "iv3,woe3 = self_bin(data.label,data.X3,cutx3)\n",
    "iv4,woe4 = self_bin(data.label,data.X4,cutx4)\n",
    "iv5,woe5 = self_bin(data.label,data.X5,cutx5)\n",
    "\n",
    "iv8,woe8 = self_bin(data.label,data.X8,cutx8)\n",
    "iv9,woe9 = self_bin(data.label,data.X9,cutx9)\n",
    "iv10,woe10 = self_bin(data.label,data.X10,cutx10)\n",
    "\n",
    "iv12,woe12 = self_bin(data.label,data.X12,cutx12)\n",
    "\n",
    "iv14,woe14 = self_bin(data.label,data.X14,cutx14)\n",
    "iv15,woe15 = self_bin(data.label,data.X15,cutx15)\n",
    "iv16,woe16 = self_bin(data.label,data.X16,cutx16)\n",
    "iv17,woe17 = self_bin(data.label,data.X17,cutx17)\n",
    "iv18,woe18 = self_bin(data.label,data.X18,cutx18)"
   ]
  },
  {
   "cell_type": "code",
   "execution_count": 364,
   "metadata": {
    "collapsed": false
   },
   "outputs": [],
   "source": [
    "col_feature.remove(\"label\")"
   ]
  },
  {
   "cell_type": "code",
   "execution_count": 368,
   "metadata": {
    "collapsed": false
   },
   "outputs": [
    {
     "data": {
      "image/png": "[encoded data removed]",
      "text/plain": [
       "<matplotlib.figure.Figure at 0x1be55320>"
      ]
     },
     "metadata": {},
     "output_type": "display_data"
    }
   ],
   "source": [
    "ivlist=[iv1,iv2,iv3,iv4,iv5,iv8,iv9,iv10,iv12,iv14,iv15,iv16,iv17,iv18]#各变量IV\n",
    "index=data.drop(\"label\",axis=1).columns #x轴的标签\n",
    "fig1 = plt.figure(figsize=(20,7))\n",
    "ax1 = fig1.add_subplot(1, 1, 1)\n",
    "x = np.arange(len(index))+1\n",
    "ax1.bar(x, ivlist, width=0.4)#生成柱状图\n",
    "ax1.set_xticks(x)\n",
    "ax1.set_xticklabels(index, rotation=0, fontsize=8)\n",
    "ax1.set_ylabel('IV(Information Value)', fontsize=14)\n",
    "#在柱状图上添加数字标签\n",
    "for a, b in zip(x, ivlist):\n",
    "    plt.text(a, b + 0.01, '%.4f' % b, ha='center', va='bottom', fontsize=10)\n",
    "plt.show()"
   ]
  },
  {
   "cell_type": "code",
   "execution_count": 370,
   "metadata": {
    "collapsed": false
   },
   "outputs": [],
   "source": [
    "#删除信息价值较低的特征阈值为0.02\n",
    "drop_col = [\"X1\",\"X3\",\"X4\", \"X12\",\"X14\",\"X15\",\"X16\",\"X17\",\"X18\"]\n",
    "data = data.drop(drop_col,axis=1)"
   ]
  },
  {
   "cell_type": "code",
   "execution_count": 371,
   "metadata": {
    "collapsed": false
   },
   "outputs": [
    {
     "data": {
      "text/plain": [
       "Index(['X2', 'X5', 'X8', 'label', 'X9', 'X10'], dtype='object')"
      ]
     },
     "execution_count": 371,
     "metadata": {},
     "output_type": "execute_result"
    }
   ],
   "source": [
    "data.columns"
   ]
  },
  {
   "cell_type": "markdown",
   "metadata": {},
   "source": [
    "## 特征权重WOE 转换"
   ]
  },
  {
   "cell_type": "code",
   "execution_count": 372,
   "metadata": {
    "collapsed": true
   },
   "outputs": [],
   "source": [
    "#替换成woe函数\n",
    "def replace_woe(series,cut,woe):\n",
    "    list=[]\n",
    "    i=0\n",
    "    while i<len(series):\n",
    "        value=series[i]\n",
    "        j=len(cut)-2\n",
    "        m=len(cut)-2\n",
    "        while j>=0:\n",
    "            if value>=cut[j]:\n",
    "                j=-1\n",
    "            else:\n",
    "                j -=1\n",
    "                m -= 1\n",
    "        list.append(woe[m])\n",
    "        i += 1\n",
    "    return list"
   ]
  },
  {
   "cell_type": "code",
   "execution_count": 373,
   "metadata": {
    "collapsed": false
   },
   "outputs": [
    {
     "data": {
      "text/html": [
       "<div>\n",
       "<table border=\"1\" class=\"dataframe\">\n",
       "  <thead>\n",
       "    <tr style=\"text-align: right;\">\n",
       "      <th></th>\n",
       "      <th>X2</th>\n",
       "      <th>X5</th>\n",
       "      <th>X8</th>\n",
       "      <th>label</th>\n",
       "      <th>X9</th>\n",
       "      <th>X10</th>\n",
       "    </tr>\n",
       "  </thead>\n",
       "  <tbody>\n",
       "    <tr>\n",
       "      <th>0</th>\n",
       "      <td>2</td>\n",
       "      <td>4</td>\n",
       "      <td>1</td>\n",
       "      <td>0</td>\n",
       "      <td>781</td>\n",
       "      <td>0</td>\n",
       "    </tr>\n",
       "    <tr>\n",
       "      <th>1</th>\n",
       "      <td>3</td>\n",
       "      <td>1</td>\n",
       "      <td>2</td>\n",
       "      <td>0</td>\n",
       "      <td>705</td>\n",
       "      <td>1</td>\n",
       "    </tr>\n",
       "    <tr>\n",
       "      <th>2</th>\n",
       "      <td>2</td>\n",
       "      <td>4</td>\n",
       "      <td>2</td>\n",
       "      <td>0</td>\n",
       "      <td>798</td>\n",
       "      <td>0</td>\n",
       "    </tr>\n",
       "    <tr>\n",
       "      <th>3</th>\n",
       "      <td>1</td>\n",
       "      <td>4</td>\n",
       "      <td>2</td>\n",
       "      <td>0</td>\n",
       "      <td>676</td>\n",
       "      <td>0</td>\n",
       "    </tr>\n",
       "    <tr>\n",
       "      <th>4</th>\n",
       "      <td>2</td>\n",
       "      <td>2</td>\n",
       "      <td>2</td>\n",
       "      <td>0</td>\n",
       "      <td>753</td>\n",
       "      <td>1</td>\n",
       "    </tr>\n",
       "  </tbody>\n",
       "</table>\n",
       "</div>"
      ],
      "text/plain": [
       "   X2  X5  X8  label   X9  X10\n",
       "0   2   4   1      0  781    0\n",
       "1   3   1   2      0  705    1\n",
       "2   2   4   2      0  798    0\n",
       "3   1   4   2      0  676    0\n",
       "4   2   2   2      0  753    1"
      ]
     },
     "execution_count": 373,
     "metadata": {},
     "output_type": "execute_result"
    }
   ],
   "source": [
    "data.head()"
   ]
  },
  {
   "cell_type": "code",
   "execution_count": 374,
   "metadata": {
    "collapsed": false
   },
   "outputs": [],
   "source": [
    "data[\"X2\"] = replace_woe(list(data.X2),cutx2,woe2)\n",
    "data[\"X5\"] = replace_woe(list(data.X5),cutx5,woe5)\n",
    "data[\"X8\"] = replace_woe(list(data.X8),cutx8,woe8)\n",
    "data[\"X9\"] = replace_woe(list(data.X9),cutx9,woe9)\n",
    "data[\"X10\"] = replace_woe(list(data.X10),cutx10,woe10)"
   ]
  },
  {
   "cell_type": "code",
   "execution_count": 375,
   "metadata": {
    "collapsed": false
   },
   "outputs": [
    {
     "data": {
      "text/html": [
       "<div>\n",
       "<table border=\"1\" class=\"dataframe\">\n",
       "  <thead>\n",
       "    <tr style=\"text-align: right;\">\n",
       "      <th></th>\n",
       "      <th>X2</th>\n",
       "      <th>X5</th>\n",
       "      <th>X8</th>\n",
       "      <th>label</th>\n",
       "      <th>X9</th>\n",
       "      <th>X10</th>\n",
       "    </tr>\n",
       "  </thead>\n",
       "  <tbody>\n",
       "    <tr>\n",
       "      <th>0</th>\n",
       "      <td>-1.32700</td>\n",
       "      <td>-0.39300</td>\n",
       "      <td>1.59900</td>\n",
       "      <td>0</td>\n",
       "      <td>-1.89600</td>\n",
       "      <td>-0.54000</td>\n",
       "    </tr>\n",
       "    <tr>\n",
       "      <th>1</th>\n",
       "      <td>-1.32700</td>\n",
       "      <td>0.05600</td>\n",
       "      <td>1.59900</td>\n",
       "      <td>0</td>\n",
       "      <td>-0.58800</td>\n",
       "      <td>-0.54000</td>\n",
       "    </tr>\n",
       "    <tr>\n",
       "      <th>2</th>\n",
       "      <td>-1.32700</td>\n",
       "      <td>-0.39300</td>\n",
       "      <td>1.59900</td>\n",
       "      <td>0</td>\n",
       "      <td>-1.89600</td>\n",
       "      <td>-0.54000</td>\n",
       "    </tr>\n",
       "    <tr>\n",
       "      <th>3</th>\n",
       "      <td>-0.79000</td>\n",
       "      <td>-0.39300</td>\n",
       "      <td>1.59900</td>\n",
       "      <td>0</td>\n",
       "      <td>-0.58800</td>\n",
       "      <td>-0.54000</td>\n",
       "    </tr>\n",
       "    <tr>\n",
       "      <th>4</th>\n",
       "      <td>-1.32700</td>\n",
       "      <td>-0.03100</td>\n",
       "      <td>1.59900</td>\n",
       "      <td>0</td>\n",
       "      <td>-1.89600</td>\n",
       "      <td>-0.54000</td>\n",
       "    </tr>\n",
       "  </tbody>\n",
       "</table>\n",
       "</div>"
      ],
      "text/plain": [
       "        X2       X5      X8  label       X9      X10\n",
       "0 -1.32700 -0.39300 1.59900      0 -1.89600 -0.54000\n",
       "1 -1.32700  0.05600 1.59900      0 -0.58800 -0.54000\n",
       "2 -1.32700 -0.39300 1.59900      0 -1.89600 -0.54000\n",
       "3 -0.79000 -0.39300 1.59900      0 -0.58800 -0.54000\n",
       "4 -1.32700 -0.03100 1.59900      0 -1.89600 -0.54000"
      ]
     },
     "execution_count": 375,
     "metadata": {},
     "output_type": "execute_result"
    }
   ],
   "source": [
    "data.head()"
   ]
  },
  {
   "cell_type": "code",
   "execution_count": 378,
   "metadata": {
    "collapsed": false
   },
   "outputs": [
    {
     "data": {
      "text/html": [
       "<div>\n",
       "<table border=\"1\" class=\"dataframe\">\n",
       "  <thead>\n",
       "    <tr style=\"text-align: right;\">\n",
       "      <th></th>\n",
       "      <th>count</th>\n",
       "      <th>mean</th>\n",
       "      <th>std</th>\n",
       "      <th>min</th>\n",
       "      <th>25%</th>\n",
       "      <th>50%</th>\n",
       "      <th>75%</th>\n",
       "      <th>max</th>\n",
       "    </tr>\n",
       "  </thead>\n",
       "  <tbody>\n",
       "    <tr>\n",
       "      <th>X2</th>\n",
       "      <td>728603.00000</td>\n",
       "      <td>-0.58860</td>\n",
       "      <td>0.35902</td>\n",
       "      <td>-1.32700</td>\n",
       "      <td>-0.79000</td>\n",
       "      <td>-0.27900</td>\n",
       "      <td>-0.27900</td>\n",
       "      <td>-0.27900</td>\n",
       "    </tr>\n",
       "    <tr>\n",
       "      <th>X5</th>\n",
       "      <td>728603.00000</td>\n",
       "      <td>-0.26514</td>\n",
       "      <td>0.20502</td>\n",
       "      <td>-0.47700</td>\n",
       "      <td>-0.47700</td>\n",
       "      <td>-0.39300</td>\n",
       "      <td>-0.03100</td>\n",
       "      <td>0.05600</td>\n",
       "    </tr>\n",
       "    <tr>\n",
       "      <th>X8</th>\n",
       "      <td>728603.00000</td>\n",
       "      <td>1.59900</td>\n",
       "      <td>0.00000</td>\n",
       "      <td>1.59900</td>\n",
       "      <td>1.59900</td>\n",
       "      <td>1.59900</td>\n",
       "      <td>1.59900</td>\n",
       "      <td>1.59900</td>\n",
       "    </tr>\n",
       "    <tr>\n",
       "      <th>X9</th>\n",
       "      <td>728603.00000</td>\n",
       "      <td>-0.05996</td>\n",
       "      <td>0.43332</td>\n",
       "      <td>-1.89600</td>\n",
       "      <td>0.16700</td>\n",
       "      <td>0.16700</td>\n",
       "      <td>0.16700</td>\n",
       "      <td>0.16700</td>\n",
       "    </tr>\n",
       "    <tr>\n",
       "      <th>X10</th>\n",
       "      <td>728603.00000</td>\n",
       "      <td>-0.54000</td>\n",
       "      <td>0.00000</td>\n",
       "      <td>-0.54000</td>\n",
       "      <td>-0.54000</td>\n",
       "      <td>-0.54000</td>\n",
       "      <td>-0.54000</td>\n",
       "      <td>-0.54000</td>\n",
       "    </tr>\n",
       "  </tbody>\n",
       "</table>\n",
       "</div>"
      ],
      "text/plain": [
       "           count     mean     std      min      25%      50%      75%      max\n",
       "X2  728603.00000 -0.58860 0.35902 -1.32700 -0.79000 -0.27900 -0.27900 -0.27900\n",
       "X5  728603.00000 -0.26514 0.20502 -0.47700 -0.47700 -0.39300 -0.03100  0.05600\n",
       "X8  728603.00000  1.59900 0.00000  1.59900  1.59900  1.59900  1.59900  1.59900\n",
       "X9  728603.00000 -0.05996 0.43332 -1.89600  0.16700  0.16700  0.16700  0.16700\n",
       "X10 728603.00000 -0.54000 0.00000 -0.54000 -0.54000 -0.54000 -0.54000 -0.54000"
      ]
     },
     "execution_count": 378,
     "metadata": {},
     "output_type": "execute_result"
    }
   ],
   "source": [
    "data[[\"X2\",\"X5\",\"X8\",\"X9\",\"X10\"]].describe().T"
   ]
  },
  {
   "cell_type": "code",
   "execution_count": 377,
   "metadata": {
    "collapsed": true
   },
   "outputs": [],
   "source": [
    "#保存WOE数据,证据权重\n",
    "data.to_excel(\"WoeData.xlsx\",index=False)"
   ]
  },
  {
   "cell_type": "markdown",
   "metadata": {},
   "source": [
    "## 使用sklearn构建逻辑回归模型"
   ]
  },
  {
   "cell_type": "code",
   "execution_count": 384,
   "metadata": {
    "collapsed": false
   },
   "outputs": [
    {
     "data": {
      "text/plain": [
       "(728603, 5)"
      ]
     },
     "execution_count": 384,
     "metadata": {},
     "output_type": "execute_result"
    }
   ],
   "source": [
    "df = pd.read_csv(\"data_new.csv\",encoding=\"utf-8\")\n",
    "#数据拆分\n",
    "X = df.drop(\"label\",axis=1)[[\"education\",\"income_range\",\"client_type\",\"zhima_score\",\"gender_Female\"]]\n",
    "y = df[\"label\"]\n",
    "X.shape"
   ]
  },
  {
   "cell_type": "code",
   "execution_count": 385,
   "metadata": {
    "collapsed": false
   },
   "outputs": [],
   "source": [
    "X.columns = [\"X2\",\"X5\",\"X8\",\"X9\",\"X10\"]"
   ]
  },
  {
   "cell_type": "code",
   "execution_count": 386,
   "metadata": {
    "collapsed": true
   },
   "outputs": [],
   "source": [
    "#数据归一化\n",
    "from sklearn.preprocessing import MinMaxScaler\n",
    "scaler =MinMaxScaler()\n",
    "model = scaler.fit(X)\n",
    "X  = model.transform(X)"
   ]
  },
  {
   "cell_type": "code",
   "execution_count": 387,
   "metadata": {
    "collapsed": true
   },
   "outputs": [],
   "source": [
    "#处理不平衡样本\n",
    "from imblearn.over_sampling import RandomOverSampler\n",
    "ros = RandomOverSampler()\n",
    "X,y = ros.fit_sample(X,y)"
   ]
  },
  {
   "cell_type": "code",
   "execution_count": 389,
   "metadata": {
    "collapsed": false
   },
   "outputs": [
    {
     "name": "stdout",
     "output_type": "stream",
     "text": [
      "(1383968, 5)\n",
      "(1383968,)\n"
     ]
    }
   ],
   "source": [
    "print(X.shape)\n",
    "print(y.shape)"
   ]
  },
  {
   "cell_type": "code",
   "execution_count": 390,
   "metadata": {
    "collapsed": false
   },
   "outputs": [
    {
     "name": "stdout",
     "output_type": "stream",
     "text": [
      "AUC分数: 0.786078383429\n"
     ]
    }
   ],
   "source": [
    "#初步构建模型\n",
    "from sklearn.linear_model import LogisticRegression\n",
    "from sklearn.model_selection import train_test_split\n",
    "from sklearn.metrics import roc_auc_score\n",
    "\n",
    "X_train,X_test,y_train,y_test  = train_test_split(X,y,random_state=0,test_size=0.3)\n",
    "\n",
    "model = LogisticRegression()\n",
    "model = model.fit(X_train,y_train)\n",
    "\n",
    "auc_score = roc_auc_score(y_test,model.predict_proba(X_test)[:,1])\n",
    "print(\"AUC分数:\",auc_score)"
   ]
  },
  {
   "cell_type": "code",
   "execution_count": 391,
   "metadata": {
    "collapsed": false
   },
   "outputs": [
    {
     "data": {
      "text/plain": [
       "{'C': 0.001, 'penalty': 'l1'}"
      ]
     },
     "execution_count": 391,
     "metadata": {},
     "output_type": "execute_result"
    }
   ],
   "source": [
    "#模型优化\n",
    "from sklearn.linear_model import LogisticRegression #逻辑回归\n",
    "from sklearn.model_selection import KFold #k折交叉验证\n",
    "from sklearn.model_selection import GridSearchCV #估计器\n",
    "\n",
    "#构建参数组集\n",
    "param_grid ={\"penalty\": [\"l1\",\"l2\"],\"C\":[0.001,0.1,10,100]}\n",
    "\n",
    "#构建网络搜索分类器\n",
    "lg = LogisticRegression()\n",
    "kfold = KFold(n_splits=5)\n",
    "grid_search = GridSearchCV(lg,param_grid=param_grid, cv=kfold)\n",
    "\n",
    "#模型训练\n",
    "grid_search = grid_search.fit(X_train,y_train)\n",
    "\n",
    "#逻辑回归模型最佳参数\n",
    "grid_search.best_params_"
   ]
  },
  {
   "cell_type": "code",
   "execution_count": 392,
   "metadata": {
    "collapsed": false
   },
   "outputs": [
    {
     "name": "stdout",
     "output_type": "stream",
     "text": [
      "AUC分数: 0.786078383429\n"
     ]
    }
   ],
   "source": [
    "#重构模型\n",
    "from sklearn.linear_model import LogisticRegression\n",
    "from sklearn.metrics import roc_auc_score\n",
    "\n",
    "model2 = LogisticRegression(C=0.001,penalty=\"l1\")\n",
    "model2 = model.fit(X_train,y_train)\n",
    "\n",
    "auc_score = roc_auc_score(y_test,model2.predict_proba(X_test)[:,1])\n",
    "print(\"AUC分数:\",auc_score)"
   ]
  },
  {
   "cell_type": "code",
   "execution_count": 394,
   "metadata": {
    "collapsed": false
   },
   "outputs": [
    {
     "name": "stdout",
     "output_type": "stream",
     "text": [
      "             precision    recall  f1-score   support\n",
      "\n",
      "          0       0.68      0.88      0.77    207118\n",
      "          1       0.83      0.58      0.69    208073\n",
      "\n",
      "avg / total       0.76      0.73      0.73    415191\n",
      "\n"
     ]
    }
   ],
   "source": [
    "from sklearn.metrics import confusion_matrix #混淆矩阵\n",
    "from sklearn.metrics import classification_report #输出混淆矩阵各项指标\n",
    "\n",
    "#输出混淆矩阵及各项指标\n",
    "pred = model2.predict(X_test)\n",
    "confusion = confusion_matrix(y_test,pred) \n",
    "#输出准确率,召回率,f1值,数量\n",
    "print(classification_report(y_test,pred,target_names =[\"0\",\"1\"]))"
   ]
  },
  {
   "cell_type": "code",
   "execution_count": 396,
   "metadata": {
    "collapsed": false
   },
   "outputs": [
    {
     "name": "stdout",
     "output_type": "stream",
     "text": [
      "模型精度: 0.786078383429\n"
     ]
    },
    {
     "data": {
      "image/png": "[encoded data removed]",
      "text/plain": [
       "<matplotlib.figure.Figure at 0x1bcf5e80>"
      ]
     },
     "metadata": {},
     "output_type": "display_data"
    }
   ],
   "source": [
    "#ROC\n",
    "from sklearn.metrics import roc_curve #ROC曲线\n",
    "from sklearn.metrics import roc_auc_score #AUC分数\n",
    "\n",
    "fpr_rf,tpr_rf,thresholds = roc_curve(y_test,model2.predict_proba(X_test)[:,1])\n",
    "\n",
    "#找到最接近于0的阈值\n",
    "close_zero = np.argmin(np.abs(thresholds-0.5))\n",
    "plt.figure(figsize=(12,6))\n",
    "sns.set_style(\"whitegrid\",{\"font.sans-serif\":[\"simhei\",\"Arial\"]})\n",
    "plt.plot(fpr_rf,tpr_rf,label=\"ROC\")\n",
    "plt.plot(fpr_rf[close_zero],tpr_rf[close_zero],\"o\",markersize=10,label=\"threshold 0.5rf\",fillstyle=\"none\",c=\"m\",mew=3)\n",
    "#打印AUC分数\n",
    "rf_auc = roc_auc_score(y_test,model2.predict_proba(X_test)[:,1])\n",
    "print(\"模型精度:\",rf_auc)"
   ]
  },
  {
   "cell_type": "code",
   "execution_count": 455,
   "metadata": {
    "collapsed": false
   },
   "outputs": [
    {
     "name": "stdout",
     "output_type": "stream",
     "text": [
      "好坏客户区分度KS值: 0.467006438426\n"
     ]
    },
    {
     "data": {
      "image/png": "[encoded data removed]",
      "text/plain": [
       "<matplotlib.figure.Figure at 0x1be8e518>"
      ]
     },
     "metadata": {},
     "output_type": "display_data"
    }
   ],
   "source": [
    "#KS值\n",
    "KS=max(abs(fpr_rf-tpr_rf))\n",
    "#ROC\n",
    "from sklearn.metrics import roc_curve #ROC曲线\n",
    "from sklearn.metrics import roc_auc_score #AUC分数\n",
    "\n",
    "fpr_rf,tpr_rf,thresholds = roc_curve(y_test,model2.predict_proba(X_test)[:,1])\n",
    "\n",
    "#找到最接近于0的阈值\n",
    "close_zero = np.argmin(np.abs(thresholds-0.5))\n",
    "plt.figure(figsize=(12,6))\n",
    "sns.set_style(\"whitegrid\",{\"font.sans-serif\":[\"simhei\",\"Arial\"]})\n",
    "plt.plot(tpr_rf,fpr_rf, label=\"KS\")\n",
    "plt.plot(fpr_rf,tpr_rf,label=\"KS\")\n",
    "#plt.plot(tpr_rf[close_zero],fpr_rf[close_zero],\"o\",markersize=10,label=\"threshold 0.5rf\",fillstyle=\"none\",c=\"m\",mew=3)\n",
    "#打印AUC分数\n",
    "rf_auc = roc_auc_score(y_test,model2.predict_proba(X_test)[:,1])\n",
    "print(\"好坏客户区分度KS值:\",KS)"
   ]
  },
  {
   "cell_type": "code",
   "execution_count": 401,
   "metadata": {
    "collapsed": false
   },
   "outputs": [
    {
     "name": "stdout",
     "output_type": "stream",
     "text": [
      "[-0.0451483]\n",
      "[[-1.55711183  0.29976425  2.45474657 -0.88762834 -0.75027511]]\n"
     ]
    }
   ],
   "source": [
    "#输出特征系数\n",
    "print(model2.intercept_)\n",
    "print(model2.coef_)"
   ]
  },
  {
   "cell_type": "code",
   "execution_count": 402,
   "metadata": {
    "collapsed": false
   },
   "outputs": [],
   "source": [
    "#特征系数\n",
    "coe = [-0.0451483,-1.55711183 ,0.29976425,2.45474657,-0.88762834,-0.75027511]"
   ]
  },
  {
   "cell_type": "markdown",
   "metadata": {},
   "source": [
    "## 信用评分\n",
    "### a=log（p_good/P_bad）\n",
    "### Score = offset + factor * log(odds)"
   ]
  },
  {
   "cell_type": "code",
   "execution_count": 403,
   "metadata": {
    "collapsed": false
   },
   "outputs": [],
   "source": [
    "#取600分为基础分值，PDO为20（每高20分好坏比翻一倍），好坏比取20。 \n",
    "p = 20/math.log(2)\n",
    "q = 600 - 20 * math.log(20) / math.log(2)\n",
    "baseScore = round(q + p *coe[0], 0)"
   ]
  },
  {
   "cell_type": "code",
   "execution_count": 434,
   "metadata": {
    "collapsed": false
   },
   "outputs": [
    {
     "data": {
      "text/plain": [
       "512.0"
      ]
     },
     "execution_count": 434,
     "metadata": {},
     "output_type": "execute_result"
    }
   ],
   "source": [
    "baseScore"
   ]
  },
  {
   "cell_type": "code",
   "execution_count": 306,
   "metadata": {
    "collapsed": false
   },
   "outputs": [],
   "source": [
    "#计算分数函数\n",
    "def get_score(coe,woe,factor):\n",
    "    scores=[]\n",
    "    for w in woe:\n",
    "        score=round(coe*w*factor,0)\n",
    "        scores.append(score)\n",
    "    return scores"
   ]
  },
  {
   "cell_type": "code",
   "execution_count": 405,
   "metadata": {
    "collapsed": false
   },
   "outputs": [
    {
     "data": {
      "text/plain": [
       "Index(['X2', 'X5', 'X8', 'label', 'X9', 'X10'], dtype='object')"
      ]
     },
     "execution_count": 405,
     "metadata": {},
     "output_type": "execute_result"
    }
   ],
   "source": [
    "data.columns"
   ]
  },
  {
   "cell_type": "code",
   "execution_count": 406,
   "metadata": {
    "collapsed": false
   },
   "outputs": [],
   "source": [
    "# 各项部分分数\n",
    "X2 = get_score(coe[1],woe2,p)\n",
    "X5 = get_score(coe[2],woe5,p)\n",
    "X8 = get_score(coe[3],woe8,p)\n",
    "X9 = get_score(coe[4],woe9,p)\n",
    "X10 = get_score(coe[5],woe10,p)"
   ]
  },
  {
   "cell_type": "code",
   "execution_count": 432,
   "metadata": {
    "collapsed": false
   },
   "outputs": [
    {
     "data": {
      "text/plain": [
       "[0, 1]"
      ]
     },
     "execution_count": 432,
     "metadata": {},
     "output_type": "execute_result"
    }
   ],
   "source": [
    "cutx10"
   ]
  },
  {
   "cell_type": "code",
   "execution_count": 433,
   "metadata": {
    "collapsed": false
   },
   "outputs": [
    {
     "data": {
      "text/plain": [
       "[12.0]"
      ]
     },
     "execution_count": 433,
     "metadata": {},
     "output_type": "execute_result"
    }
   ],
   "source": [
    "X10"
   ]
  },
  {
   "cell_type": "markdown",
   "metadata": {},
   "source": [
    "## 自动评分系统"
   ]
  },
  {
   "cell_type": "code",
   "execution_count": 448,
   "metadata": {
    "collapsed": false
   },
   "outputs": [
    {
     "data": {
      "text/html": [
       "<div>\n",
       "<table border=\"1\" class=\"dataframe\">\n",
       "  <thead>\n",
       "    <tr style=\"text-align: right;\">\n",
       "      <th></th>\n",
       "      <th>age</th>\n",
       "      <th>education</th>\n",
       "      <th>shebao</th>\n",
       "      <th>vehicle_num</th>\n",
       "      <th>income_range</th>\n",
       "      <th>loan_rate</th>\n",
       "      <th>seniority</th>\n",
       "      <th>client_type</th>\n",
       "      <th>label</th>\n",
       "      <th>zhima_score</th>\n",
       "      <th>gender_Female</th>\n",
       "      <th>gender_Male</th>\n",
       "      <th>marriage_marriage</th>\n",
       "      <th>marriage_unmarriage</th>\n",
       "      <th>house_nature_owned</th>\n",
       "      <th>house_nature_rent</th>\n",
       "      <th>house_nature_unknown</th>\n",
       "      <th>house_nature_with_parents</th>\n",
       "      <th>cv_ios</th>\n",
       "      <th>cv_other</th>\n",
       "    </tr>\n",
       "  </thead>\n",
       "  <tbody>\n",
       "    <tr>\n",
       "      <th>0</th>\n",
       "      <td>33</td>\n",
       "      <td>2</td>\n",
       "      <td>1</td>\n",
       "      <td>0</td>\n",
       "      <td>4</td>\n",
       "      <td>0</td>\n",
       "      <td>4</td>\n",
       "      <td>1</td>\n",
       "      <td>0</td>\n",
       "      <td>781</td>\n",
       "      <td>0</td>\n",
       "      <td>1</td>\n",
       "      <td>0</td>\n",
       "      <td>1</td>\n",
       "      <td>1</td>\n",
       "      <td>0</td>\n",
       "      <td>0</td>\n",
       "      <td>0</td>\n",
       "      <td>0</td>\n",
       "      <td>1</td>\n",
       "    </tr>\n",
       "    <tr>\n",
       "      <th>1</th>\n",
       "      <td>24</td>\n",
       "      <td>3</td>\n",
       "      <td>0</td>\n",
       "      <td>0</td>\n",
       "      <td>1</td>\n",
       "      <td>1</td>\n",
       "      <td>1</td>\n",
       "      <td>2</td>\n",
       "      <td>0</td>\n",
       "      <td>705</td>\n",
       "      <td>1</td>\n",
       "      <td>0</td>\n",
       "      <td>0</td>\n",
       "      <td>1</td>\n",
       "      <td>0</td>\n",
       "      <td>1</td>\n",
       "      <td>0</td>\n",
       "      <td>0</td>\n",
       "      <td>0</td>\n",
       "      <td>1</td>\n",
       "    </tr>\n",
       "    <tr>\n",
       "      <th>2</th>\n",
       "      <td>40</td>\n",
       "      <td>2</td>\n",
       "      <td>1</td>\n",
       "      <td>0</td>\n",
       "      <td>4</td>\n",
       "      <td>1</td>\n",
       "      <td>2</td>\n",
       "      <td>2</td>\n",
       "      <td>0</td>\n",
       "      <td>798</td>\n",
       "      <td>0</td>\n",
       "      <td>1</td>\n",
       "      <td>1</td>\n",
       "      <td>0</td>\n",
       "      <td>1</td>\n",
       "      <td>0</td>\n",
       "      <td>0</td>\n",
       "      <td>0</td>\n",
       "      <td>0</td>\n",
       "      <td>1</td>\n",
       "    </tr>\n",
       "    <tr>\n",
       "      <th>3</th>\n",
       "      <td>35</td>\n",
       "      <td>1</td>\n",
       "      <td>1</td>\n",
       "      <td>0</td>\n",
       "      <td>4</td>\n",
       "      <td>1</td>\n",
       "      <td>4</td>\n",
       "      <td>2</td>\n",
       "      <td>0</td>\n",
       "      <td>676</td>\n",
       "      <td>0</td>\n",
       "      <td>1</td>\n",
       "      <td>1</td>\n",
       "      <td>0</td>\n",
       "      <td>1</td>\n",
       "      <td>0</td>\n",
       "      <td>0</td>\n",
       "      <td>0</td>\n",
       "      <td>0</td>\n",
       "      <td>1</td>\n",
       "    </tr>\n",
       "    <tr>\n",
       "      <th>4</th>\n",
       "      <td>24</td>\n",
       "      <td>2</td>\n",
       "      <td>0</td>\n",
       "      <td>0</td>\n",
       "      <td>2</td>\n",
       "      <td>1</td>\n",
       "      <td>1</td>\n",
       "      <td>2</td>\n",
       "      <td>0</td>\n",
       "      <td>753</td>\n",
       "      <td>1</td>\n",
       "      <td>0</td>\n",
       "      <td>0</td>\n",
       "      <td>1</td>\n",
       "      <td>0</td>\n",
       "      <td>1</td>\n",
       "      <td>0</td>\n",
       "      <td>0</td>\n",
       "      <td>0</td>\n",
       "      <td>1</td>\n",
       "    </tr>\n",
       "  </tbody>\n",
       "</table>\n",
       "</div>"
      ],
      "text/plain": [
       "   age  education  shebao  vehicle_num  income_range  loan_rate  seniority  \\\n",
       "0   33          2       1            0             4          0          4   \n",
       "1   24          3       0            0             1          1          1   \n",
       "2   40          2       1            0             4          1          2   \n",
       "3   35          1       1            0             4          1          4   \n",
       "4   24          2       0            0             2          1          1   \n",
       "\n",
       "   client_type  label  zhima_score  gender_Female  gender_Male  \\\n",
       "0            1      0          781              0            1   \n",
       "1            2      0          705              1            0   \n",
       "2            2      0          798              0            1   \n",
       "3            2      0          676              0            1   \n",
       "4            2      0          753              1            0   \n",
       "\n",
       "   marriage_marriage  marriage_unmarriage  house_nature_owned  \\\n",
       "0                  0                    1                   1   \n",
       "1                  0                    1                   0   \n",
       "2                  1                    0                   1   \n",
       "3                  1                    0                   1   \n",
       "4                  0                    1                   0   \n",
       "\n",
       "   house_nature_rent  house_nature_unknown  house_nature_with_parents  cv_ios  \\\n",
       "0                  0                     0                          0       0   \n",
       "1                  1                     0                          0       0   \n",
       "2                  0                     0                          0       0   \n",
       "3                  0                     0                          0       0   \n",
       "4                  1                     0                          0       0   \n",
       "\n",
       "   cv_other  \n",
       "0         1  \n",
       "1         1  \n",
       "2         1  \n",
       "3         1  \n",
       "4         1  "
      ]
     },
     "execution_count": 448,
     "metadata": {},
     "output_type": "execute_result"
    }
   ],
   "source": [
    "df = pd.read_csv(\"data_new.csv\",encoding=\"utf-8\")\n",
    "df.head()"
   ]
  },
  {
   "cell_type": "code",
   "execution_count": 451,
   "metadata": {
    "collapsed": true
   },
   "outputs": [],
   "source": [
    "#取出数据集的10%进行评分检验\n",
    "df = df.sample(frac=0.1)\n",
    "df[[\"education\",\"income_range\",\"client_type\",\"gender_Female\",\"zhima_score\",\"label\"]].to_excel(\"test_data.xlsx\",index=False)"
   ]
  },
  {
   "cell_type": "code",
   "execution_count": 435,
   "metadata": {
    "collapsed": false
   },
   "outputs": [],
   "source": [
    "#根据变量计算分数\n",
    "def compute_score(series,cut,score):\n",
    "    list = []\n",
    "    i = 0\n",
    "    while i < len(series):\n",
    "        value = series[i]\n",
    "        j = len(cut) - 2\n",
    "        m = len(cut) - 2\n",
    "        while j >= 0:\n",
    "            if value >= cut[j]:\n",
    "                j = -1\n",
    "            else:\n",
    "                j -= 1\n",
    "                m -= 1\n",
    "        list.append(score[m])\n",
    "        i += 1\n",
    "    return list"
   ]
  },
  {
   "cell_type": "code",
   "execution_count": 438,
   "metadata": {
    "collapsed": false
   },
   "outputs": [
    {
     "data": {
      "text/html": [
       "<div>\n",
       "<table border=\"1\" class=\"dataframe\">\n",
       "  <thead>\n",
       "    <tr style=\"text-align: right;\">\n",
       "      <th></th>\n",
       "      <th>X2</th>\n",
       "      <th>X5</th>\n",
       "      <th>X8</th>\n",
       "      <th>label</th>\n",
       "      <th>X9</th>\n",
       "      <th>X10</th>\n",
       "    </tr>\n",
       "  </thead>\n",
       "  <tbody>\n",
       "    <tr>\n",
       "      <th>0</th>\n",
       "      <td>-1.32700</td>\n",
       "      <td>-0.39300</td>\n",
       "      <td>1.59900</td>\n",
       "      <td>0</td>\n",
       "      <td>-1.89600</td>\n",
       "      <td>-0.54000</td>\n",
       "    </tr>\n",
       "    <tr>\n",
       "      <th>1</th>\n",
       "      <td>-1.32700</td>\n",
       "      <td>0.05600</td>\n",
       "      <td>1.59900</td>\n",
       "      <td>0</td>\n",
       "      <td>-0.58800</td>\n",
       "      <td>-0.54000</td>\n",
       "    </tr>\n",
       "    <tr>\n",
       "      <th>2</th>\n",
       "      <td>-1.32700</td>\n",
       "      <td>-0.39300</td>\n",
       "      <td>1.59900</td>\n",
       "      <td>0</td>\n",
       "      <td>-1.89600</td>\n",
       "      <td>-0.54000</td>\n",
       "    </tr>\n",
       "    <tr>\n",
       "      <th>3</th>\n",
       "      <td>-0.79000</td>\n",
       "      <td>-0.39300</td>\n",
       "      <td>1.59900</td>\n",
       "      <td>0</td>\n",
       "      <td>-0.58800</td>\n",
       "      <td>-0.54000</td>\n",
       "    </tr>\n",
       "    <tr>\n",
       "      <th>4</th>\n",
       "      <td>-1.32700</td>\n",
       "      <td>-0.03100</td>\n",
       "      <td>1.59900</td>\n",
       "      <td>0</td>\n",
       "      <td>-1.89600</td>\n",
       "      <td>-0.54000</td>\n",
       "    </tr>\n",
       "  </tbody>\n",
       "</table>\n",
       "</div>"
      ],
      "text/plain": [
       "        X2       X5      X8  label       X9      X10\n",
       "0 -1.32700 -0.39300 1.59900      0 -1.89600 -0.54000\n",
       "1 -1.32700  0.05600 1.59900      0 -0.58800 -0.54000\n",
       "2 -1.32700 -0.39300 1.59900      0 -1.89600 -0.54000\n",
       "3 -0.79000 -0.39300 1.59900      0 -0.58800 -0.54000\n",
       "4 -1.32700 -0.03100 1.59900      0 -1.89600 -0.54000"
      ]
     },
     "execution_count": 438,
     "metadata": {},
     "output_type": "execute_result"
    }
   ],
   "source": [
    "data.head()"
   ]
  },
  {
   "cell_type": "code",
   "execution_count": 439,
   "metadata": {
    "collapsed": true
   },
   "outputs": [],
   "source": [
    "df = data"
   ]
  },
  {
   "cell_type": "code",
   "execution_count": 440,
   "metadata": {
    "collapsed": false
   },
   "outputs": [],
   "source": [
    "df[\"X2\"] = compute_score(list(data.X2),cutx2,X2)\n",
    "df[\"X5\"] = compute_score(list(data.X5),cutx5,X5)\n",
    "df[\"X8\"] = compute_score(list(data.X8),cutx8,X8)\n",
    "df[\"X9\"] = compute_score(list(data.X9),cutx9,X9)\n",
    "df[\"X10\"] = compute_score(list(data.X10),cutx10,X10)\n",
    "df[\"Score\"] = df[\"X2\"] + df[\"X5\"]+df[\"X8\"]+df[\"X9\"]+df[\"X10\"]+baseScore"
   ]
  },
  {
   "cell_type": "code",
   "execution_count": 447,
   "metadata": {
    "collapsed": false
   },
   "outputs": [
    {
     "data": {
      "text/plain": [
       "731.00000    688431\n",
       "730.00000     40172\n",
       "Name: Score, dtype: int64"
      ]
     },
     "execution_count": 447,
     "metadata": {},
     "output_type": "execute_result"
    }
   ],
   "source": [
    "df.Score.value_counts()"
   ]
  },
  {
   "cell_type": "code",
   "execution_count": 316,
   "metadata": {
    "collapsed": false
   },
   "outputs": [],
   "source": [
    "df.to_excel(\"test_score.xlsx\",index=False)"
   ]
  }
 ],
 "metadata": {
  "kernelspec": {
   "display_name": "Python 3",
   "language": "python",
   "name": "python3"
  },
  "language_info": {
   "codemirror_mode": {
    "name": "ipython",
    "version": 3
   },
   "file_extension": ".py",
   "mimetype": "text/x-python",
   "name": "python",
   "nbconvert_exporter": "python",
   "pygments_lexer": "ipython3",
   "version": "3.6.0"
  }
 },
 "nbformat": 4,
 "nbformat_minor": 2
}
